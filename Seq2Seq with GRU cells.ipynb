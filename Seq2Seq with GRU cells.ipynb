{
 "cells": [
  {
   "cell_type": "code",
   "execution_count": 1,
   "metadata": {},
   "outputs": [
    {
     "name": "stderr",
     "output_type": "stream",
     "text": [
      "Using TensorFlow backend.\n"
     ]
    }
   ],
   "source": [
    "from __future__ import print_function\n",
    "\n",
    "from keras.models import Model\n",
    "from keras.layers import Input, GRU, Dense\n",
    "import numpy as np\n"
   ]
  },
  {
   "cell_type": "code",
   "execution_count": 2,
   "metadata": {},
   "outputs": [],
   "source": [
    "batch_size = 64  # Batch size for training.\n",
    "epochs = 100  # Number of epochs to train for.\n",
    "latent_dim = 256  # Latent dimensionality of the encoding space.\n",
    "num_samples = 10000  # Number of samples to train on.\n",
    "# Path to the data txt file on disk.\n",
    "data_path = '/data/Hell/hell/Documents/seq2seq/fra.txt'"
   ]
  },
  {
   "cell_type": "code",
   "execution_count": null,
   "metadata": {},
   "outputs": [],
   "source": []
  },
  {
   "cell_type": "code",
   "execution_count": 3,
   "metadata": {},
   "outputs": [
    {
     "name": "stdout",
     "output_type": "stream",
     "text": [
      "Number of samples: 10000\n",
      "Number of unique input tokens: 71\n",
      "Number of unique output tokens: 94\n",
      "Max sequence length for inputs: 16\n",
      "Max sequence length for outputs: 59\n"
     ]
    }
   ],
   "source": [
    "input_texts = []\n",
    "target_texts = []\n",
    "input_characters = set()\n",
    "target_characters = set()\n",
    "with open(data_path, 'r', encoding='utf-8') as f:\n",
    "    lines = f.read().split('\\n')\n",
    "for line in lines[: min(num_samples, len(lines) - 1)]:\n",
    "    input_text, target_text = line.split('\\t')\n",
    "    # We use \"tab\" as the \"start sequence\" character\n",
    "    # for the targets, and \"\\n\" as \"end sequence\" character.\n",
    "    target_text = '\\t' + target_text + '\\n'\n",
    "    input_texts.append(input_text)\n",
    "    target_texts.append(target_text)\n",
    "    for char in input_text:\n",
    "        if char not in input_characters:\n",
    "            input_characters.add(char)\n",
    "    for char in target_text:\n",
    "        if char not in target_characters:\n",
    "            target_characters.add(char)\n",
    "\n",
    "input_characters = sorted(list(input_characters))\n",
    "target_characters = sorted(list(target_characters))\n",
    "num_encoder_tokens = len(input_characters)\n",
    "num_decoder_tokens = len(target_characters)\n",
    "max_encoder_seq_length = max([len(txt) for txt in input_texts])\n",
    "max_decoder_seq_length = max([len(txt) for txt in target_texts])\n",
    "\n",
    "print('Number of samples:', len(input_texts))\n",
    "print('Number of unique input tokens:', num_encoder_tokens)\n",
    "print('Number of unique output tokens:', num_decoder_tokens)\n",
    "print('Max sequence length for inputs:', max_encoder_seq_length)\n",
    "print('Max sequence length for outputs:', max_decoder_seq_length)\n",
    "\n",
    "input_token_index = dict(\n",
    "    [(char, i) for i, char in enumerate(input_characters)])\n",
    "target_token_index = dict(\n",
    "    [(char, i) for i, char in enumerate(target_characters)])"
   ]
  },
  {
   "cell_type": "code",
   "execution_count": 4,
   "metadata": {},
   "outputs": [
    {
     "name": "stdout",
     "output_type": "stream",
     "text": [
      "10000\n"
     ]
    }
   ],
   "source": [
    "print(len(target_texts))"
   ]
  },
  {
   "cell_type": "code",
   "execution_count": 5,
   "metadata": {},
   "outputs": [],
   "source": [
    "encoder_input_data = np.zeros(\n",
    "    (len(input_texts), max_encoder_seq_length, num_encoder_tokens),\n",
    "    dtype='float32')\n",
    "decoder_input_data = np.zeros(\n",
    "    (len(input_texts), max_decoder_seq_length, num_decoder_tokens),\n",
    "    dtype='float32')\n",
    "decoder_target_data = np.zeros(\n",
    "    (len(input_texts), max_decoder_seq_length, num_decoder_tokens),\n",
    "    dtype='float32')"
   ]
  },
  {
   "cell_type": "code",
   "execution_count": 6,
   "metadata": {},
   "outputs": [],
   "source": [
    "for i, (input_text, target_text) in enumerate(zip(input_texts, target_texts)):\n",
    "    for t, char in enumerate(input_text):\n",
    "        encoder_input_data[i, t, input_token_index[char]] = 1.\n",
    "    for t, char in enumerate(target_text):\n",
    "        # decoder_target_data is ahead of decoder_input_data by one timestep\n",
    "        decoder_input_data[i, t, target_token_index[char]] = 1.\n",
    "        if t > 0:\n",
    "            # decoder_target_data will be ahead by one timestep\n",
    "            # and will not include the start character.\n",
    "            decoder_target_data[i, t - 1, target_token_index[char]] = 1."
   ]
  },
  {
   "cell_type": "code",
   "execution_count": 7,
   "metadata": {},
   "outputs": [
    {
     "name": "stdout",
     "output_type": "stream",
     "text": [
      "(10000, 59, 94)\n",
      "(10000, 59, 94)\n",
      "<enumerate object at 0x7f560e4e8948>\n"
     ]
    },
    {
     "data": {
      "text/plain": [
       "numpy.ndarray"
      ]
     },
     "execution_count": 7,
     "metadata": {},
     "output_type": "execute_result"
    }
   ],
   "source": [
    "print(decoder_target_data.shape)\n",
    "print(decoder_input_data.shape)\n",
    "print(enumerate(target_text))\n",
    "type(encoder_input_data)"
   ]
  },
  {
   "cell_type": "code",
   "execution_count": 8,
   "metadata": {},
   "outputs": [
    {
     "name": "stdout",
     "output_type": "stream",
     "text": [
      "(10000, 16, 71)\n"
     ]
    }
   ],
   "source": [
    "print(encoder_input_data.shape)"
   ]
  },
  {
   "cell_type": "code",
   "execution_count": 9,
   "metadata": {},
   "outputs": [
    {
     "name": "stdout",
     "output_type": "stream",
     "text": [
      "(10000, 59, 94)\n"
     ]
    }
   ],
   "source": [
    "print(decoder_target_data.shape)"
   ]
  },
  {
   "cell_type": "code",
   "execution_count": 10,
   "metadata": {},
   "outputs": [
    {
     "name": "stdout",
     "output_type": "stream",
     "text": [
      "(10000, 59, 94)\n"
     ]
    }
   ],
   "source": [
    "print(decoder_input_data.shape)"
   ]
  },
  {
   "cell_type": "code",
   "execution_count": 11,
   "metadata": {},
   "outputs": [
    {
     "name": "stdout",
     "output_type": "stream",
     "text": [
      "[[[ 0.  0.  0. ...,  0.  0.  0.]\n",
      "  [ 0.  0.  0. ...,  0.  0.  0.]\n",
      "  [ 0.  0.  0. ...,  0.  0.  0.]\n",
      "  ..., \n",
      "  [ 0.  0.  0. ...,  0.  0.  0.]\n",
      "  [ 0.  0.  0. ...,  0.  0.  0.]\n",
      "  [ 0.  0.  0. ...,  0.  0.  0.]]\n",
      "\n",
      " [[ 0.  0.  0. ...,  0.  0.  0.]\n",
      "  [ 0.  0.  0. ...,  0.  0.  0.]\n",
      "  [ 0.  0.  0. ...,  0.  0.  0.]\n",
      "  ..., \n",
      "  [ 0.  0.  0. ...,  0.  0.  0.]\n",
      "  [ 0.  0.  0. ...,  0.  0.  0.]\n",
      "  [ 0.  0.  0. ...,  0.  0.  0.]]\n",
      "\n",
      " [[ 0.  0.  0. ...,  0.  0.  0.]\n",
      "  [ 0.  0.  0. ...,  0.  0.  0.]\n",
      "  [ 0.  0.  0. ...,  0.  0.  0.]\n",
      "  ..., \n",
      "  [ 0.  0.  0. ...,  0.  0.  0.]\n",
      "  [ 0.  0.  0. ...,  0.  0.  0.]\n",
      "  [ 0.  0.  0. ...,  0.  0.  0.]]\n",
      "\n",
      " ..., \n",
      " [[ 0.  0.  0. ...,  0.  0.  0.]\n",
      "  [ 1.  0.  0. ...,  0.  0.  0.]\n",
      "  [ 0.  0.  0. ...,  0.  0.  0.]\n",
      "  ..., \n",
      "  [ 0.  0.  0. ...,  0.  0.  0.]\n",
      "  [ 0.  0.  0. ...,  0.  0.  0.]\n",
      "  [ 0.  0.  0. ...,  0.  0.  0.]]\n",
      "\n",
      " [[ 0.  0.  0. ...,  0.  0.  0.]\n",
      "  [ 1.  0.  0. ...,  0.  0.  0.]\n",
      "  [ 0.  0.  0. ...,  0.  0.  0.]\n",
      "  ..., \n",
      "  [ 0.  0.  0. ...,  0.  0.  0.]\n",
      "  [ 0.  0.  0. ...,  0.  0.  0.]\n",
      "  [ 0.  0.  0. ...,  0.  0.  0.]]\n",
      "\n",
      " [[ 0.  0.  0. ...,  0.  0.  0.]\n",
      "  [ 1.  0.  0. ...,  0.  0.  0.]\n",
      "  [ 0.  0.  0. ...,  0.  0.  0.]\n",
      "  ..., \n",
      "  [ 0.  0.  0. ...,  0.  1.  0.]\n",
      "  [ 0.  0.  0. ...,  0.  0.  0.]\n",
      "  [ 0.  0.  0. ...,  0.  0.  0.]]]\n"
     ]
    }
   ],
   "source": [
    "print(encoder_input_data[:,:,:])"
   ]
  },
  {
   "cell_type": "code",
   "execution_count": null,
   "metadata": {},
   "outputs": [],
   "source": []
  },
  {
   "cell_type": "code",
   "execution_count": null,
   "metadata": {},
   "outputs": [],
   "source": []
  },
  {
   "cell_type": "code",
   "execution_count": null,
   "metadata": {},
   "outputs": [],
   "source": []
  },
  {
   "cell_type": "code",
   "execution_count": null,
   "metadata": {},
   "outputs": [],
   "source": []
  },
  {
   "cell_type": "code",
   "execution_count": 12,
   "metadata": {},
   "outputs": [],
   "source": [
    "encoder_inputs = Input(shape=(None, num_encoder_tokens))\n",
    "encoder = GRU(latent_dim, return_state=True)\n",
    "encoder_outputs, state_h = encoder(encoder_inputs)\n",
    "\n",
    "decoder_inputs = Input(shape=(None, num_decoder_tokens))\n",
    "decoder_gru = GRU(latent_dim, return_sequences=True)\n",
    "decoder_outputs = decoder_gru(decoder_inputs, initial_state=state_h)\n",
    "decoder_dense = Dense(num_decoder_tokens, activation='softmax')\n",
    "decoder_outputs = decoder_dense(decoder_outputs)\n",
    "model = Model([encoder_inputs, decoder_inputs], decoder_outputs)"
   ]
  },
  {
   "cell_type": "code",
   "execution_count": 13,
   "metadata": {},
   "outputs": [],
   "source": [
    "# Define the model that will turn\n",
    "# `encoder_input_data` & `decoder_input_data` into `decoder_target_data`\n",
    "model = Model([encoder_inputs, decoder_inputs], decoder_outputs)"
   ]
  },
  {
   "cell_type": "code",
   "execution_count": null,
   "metadata": {},
   "outputs": [
    {
     "name": "stdout",
     "output_type": "stream",
     "text": [
      "Train on 8000 samples, validate on 2000 samples\n",
      "Epoch 1/100\n",
      "8000/8000 [==============================] - 20s 2ms/step - loss: 0.0032 - val_loss: 0.0034\n",
      "Epoch 2/100\n",
      "8000/8000 [==============================] - 20s 2ms/step - loss: 0.0027 - val_loss: 0.0030\n",
      "Epoch 3/100\n",
      "8000/8000 [==============================] - 20s 2ms/step - loss: 0.0025 - val_loss: 0.0029\n",
      "Epoch 4/100\n",
      "8000/8000 [==============================] - 20s 2ms/step - loss: 0.0024 - val_loss: 0.0027\n",
      "Epoch 5/100\n",
      "8000/8000 [==============================] - 20s 2ms/step - loss: 0.0023 - val_loss: 0.0027\n",
      "Epoch 6/100\n",
      "8000/8000 [==============================] - 20s 2ms/step - loss: 0.0022 - val_loss: 0.0026\n",
      "Epoch 7/100\n",
      "8000/8000 [==============================] - 20s 2ms/step - loss: 0.0021 - val_loss: 0.0025\n",
      "Epoch 8/100\n",
      "8000/8000 [==============================] - 20s 2ms/step - loss: 0.0021 - val_loss: 0.0025\n",
      "Epoch 9/100\n",
      "8000/8000 [==============================] - 20s 2ms/step - loss: 0.0020 - val_loss: 0.0024\n",
      "Epoch 10/100\n",
      "8000/8000 [==============================] - 20s 2ms/step - loss: 0.0020 - val_loss: 0.0024\n",
      "Epoch 11/100\n",
      "8000/8000 [==============================] - 20s 2ms/step - loss: 0.0020 - val_loss: 0.0024\n",
      "Epoch 12/100\n",
      "8000/8000 [==============================] - 20s 2ms/step - loss: 0.0019 - val_loss: 0.0024\n",
      "Epoch 13/100\n",
      "8000/8000 [==============================] - 20s 2ms/step - loss: 0.0019 - val_loss: 0.0023\n",
      "Epoch 14/100\n",
      "8000/8000 [==============================] - 20s 2ms/step - loss: 0.0018 - val_loss: 0.0023\n",
      "Epoch 15/100\n",
      "8000/8000 [==============================] - 20s 2ms/step - loss: 0.0018 - val_loss: 0.0022\n",
      "Epoch 16/100\n",
      "8000/8000 [==============================] - 20s 2ms/step - loss: 0.0017 - val_loss: 0.0022\n",
      "Epoch 17/100\n",
      "8000/8000 [==============================] - 20s 2ms/step - loss: 0.0017 - val_loss: 0.0022\n",
      "Epoch 18/100\n",
      "8000/8000 [==============================] - 20s 2ms/step - loss: 0.0017 - val_loss: 0.0022\n",
      "Epoch 19/100\n",
      "8000/8000 [==============================] - 20s 2ms/step - loss: 0.0016 - val_loss: 0.0021\n",
      "Epoch 20/100\n",
      "8000/8000 [==============================] - 19s 2ms/step - loss: 0.0016 - val_loss: 0.0021\n",
      "Epoch 21/100\n",
      "8000/8000 [==============================] - 19s 2ms/step - loss: 0.0016 - val_loss: 0.0021\n",
      "Epoch 22/100\n",
      "8000/8000 [==============================] - 19s 2ms/step - loss: 0.0016 - val_loss: 0.0021\n",
      "Epoch 23/100\n",
      "8000/8000 [==============================] - 20s 2ms/step - loss: 0.0015 - val_loss: 0.0021\n",
      "Epoch 24/100\n",
      "8000/8000 [==============================] - 20s 2ms/step - loss: 0.0015 - val_loss: 0.0021\n",
      "Epoch 25/100\n",
      "8000/8000 [==============================] - 20s 2ms/step - loss: 0.0015 - val_loss: 0.0020\n",
      "Epoch 26/100\n",
      "8000/8000 [==============================] - 20s 2ms/step - loss: 0.0015 - val_loss: 0.0020\n",
      "Epoch 27/100\n",
      "8000/8000 [==============================] - 19s 2ms/step - loss: 0.0014 - val_loss: 0.0021\n",
      "Epoch 28/100\n",
      "8000/8000 [==============================] - 19s 2ms/step - loss: 0.0014 - val_loss: 0.0020\n",
      "Epoch 29/100\n",
      "8000/8000 [==============================] - 19s 2ms/step - loss: 0.0014 - val_loss: 0.0020\n",
      "Epoch 30/100\n",
      "8000/8000 [==============================] - 19s 2ms/step - loss: 0.0014 - val_loss: 0.0020\n",
      "Epoch 31/100\n",
      "8000/8000 [==============================] - 19s 2ms/step - loss: 0.0014 - val_loss: 0.0020\n",
      "Epoch 32/100\n",
      "8000/8000 [==============================] - 19s 2ms/step - loss: 0.0013 - val_loss: 0.0020\n",
      "Epoch 33/100\n",
      "8000/8000 [==============================] - 19s 2ms/step - loss: 0.0013 - val_loss: 0.0020\n",
      "Epoch 34/100\n",
      "8000/8000 [==============================] - 19s 2ms/step - loss: 0.0013 - val_loss: 0.0020\n",
      "Epoch 35/100\n",
      "8000/8000 [==============================] - 19s 2ms/step - loss: 0.0013 - val_loss: 0.0020\n",
      "Epoch 36/100\n",
      "8000/8000 [==============================] - 19s 2ms/step - loss: 0.0013 - val_loss: 0.0020\n",
      "Epoch 37/100\n",
      "8000/8000 [==============================] - 19s 2ms/step - loss: 0.0013 - val_loss: 0.0020\n",
      "Epoch 38/100\n",
      "8000/8000 [==============================] - 19s 2ms/step - loss: 0.0012 - val_loss: 0.0020\n",
      "Epoch 39/100\n",
      "8000/8000 [==============================] - 19s 2ms/step - loss: 0.0012 - val_loss: 0.0020\n",
      "Epoch 40/100\n",
      "8000/8000 [==============================] - 19s 2ms/step - loss: 0.0012 - val_loss: 0.0020\n",
      "Epoch 41/100\n",
      "8000/8000 [==============================] - 19s 2ms/step - loss: 0.0012 - val_loss: 0.0020\n",
      "Epoch 42/100\n",
      "8000/8000 [==============================] - 19s 2ms/step - loss: 0.0012 - val_loss: 0.0020\n",
      "Epoch 43/100\n",
      "8000/8000 [==============================] - 19s 2ms/step - loss: 0.0012 - val_loss: 0.0020\n",
      "Epoch 44/100\n",
      "8000/8000 [==============================] - 19s 2ms/step - loss: 0.0012 - val_loss: 0.0020\n",
      "Epoch 45/100\n",
      "8000/8000 [==============================] - 19s 2ms/step - loss: 0.0011 - val_loss: 0.0020\n",
      "Epoch 46/100\n",
      "8000/8000 [==============================] - 19s 2ms/step - loss: 0.0011 - val_loss: 0.0020\n",
      "Epoch 47/100\n",
      "8000/8000 [==============================] - 19s 2ms/step - loss: 0.0011 - val_loss: 0.0020\n",
      "Epoch 48/100\n",
      "8000/8000 [==============================] - 20s 2ms/step - loss: 0.0011 - val_loss: 0.0020\n",
      "Epoch 49/100\n",
      "8000/8000 [==============================] - 19s 2ms/step - loss: 0.0011 - val_loss: 0.0021\n",
      "Epoch 50/100\n",
      "8000/8000 [==============================] - 19s 2ms/step - loss: 0.0011 - val_loss: 0.0020\n",
      "Epoch 51/100\n",
      "8000/8000 [==============================] - 19s 2ms/step - loss: 0.0011 - val_loss: 0.0020\n",
      "Epoch 52/100\n",
      "8000/8000 [==============================] - 19s 2ms/step - loss: 0.0011 - val_loss: 0.0021\n",
      "Epoch 53/100\n",
      "8000/8000 [==============================] - 19s 2ms/step - loss: 0.0011 - val_loss: 0.0020\n",
      "Epoch 54/100\n",
      "8000/8000 [==============================] - 19s 2ms/step - loss: 0.0010 - val_loss: 0.0021\n",
      "Epoch 55/100\n",
      "8000/8000 [==============================] - 19s 2ms/step - loss: 0.0010 - val_loss: 0.0021\n",
      "Epoch 56/100\n",
      "3840/8000 [=============>................] - ETA: 9s - loss: 0.0010"
     ]
    }
   ],
   "source": [
    "# Run training\n",
    "model.compile(optimizer='rmsprop', loss='categorial_crossentropy')\n",
    "model.fit([encoder_input_data, decoder_input_data], decoder_target_data,\n",
    "          batch_size=batch_size,\n",
    "          epochs=epochs,\n",
    "          validation_split=0.2)\n",
    "# Save model\n",
    "model.save('GRUs2s.h5')"
   ]
  },
  {
   "cell_type": "code",
   "execution_count": null,
   "metadata": {},
   "outputs": [],
   "source": [
    "# Next: inference mode (sampling).\n",
    "# Here's the drill:\n",
    "# 1) encode input and retrieve initial decoder state\n",
    "# 2) run one step of decoder with this initial state\n",
    "# and a \"start of sequence\" token as target.\n",
    "# Output will be the next target token\n",
    "# 3) Repeat with the current target token and current states\n",
    "\n",
    "# Define sampling models\n",
    "encoder_model = Model(encoder_inputs, encoder_states)\n",
    "\n",
    "decoder_state_input_h = Input(shape=(latent_dim,))\n",
    "decoder_state_input_c = Input(shape=(latent_dim,))\n",
    "decoder_states_inputs = [decoder_state_input_h, decoder_state_input_c]\n",
    "decoder_outputs, state_h, state_c = decoder_lstm(\n",
    "    decoder_inputs, initial_state=decoder_states_inputs)\n",
    "decoder_states = [state_h, state_c]\n",
    "decoder_outputs = decoder_dense(decoder_outputs)\n",
    "decoder_model = Model(\n",
    "    [decoder_inputs] + decoder_states_inputs,\n",
    "    [decoder_outputs] + decoder_states)"
   ]
  },
  {
   "cell_type": "code",
   "execution_count": null,
   "metadata": {},
   "outputs": [],
   "source": [
    "# Reverse-lookup token index to decode sequences back to\n",
    "# something readable.\n",
    "reverse_input_char_index = dict(\n",
    "    (i, char) for char, i in input_token_index.items())\n",
    "reverse_target_char_index = dict(\n",
    "    (i, char) for char, i in target_token_index.items())\n",
    "\n",
    "\n",
    "def decode_sequence(input_seq):\n",
    "    # Encode the input as state vectors.\n",
    "    states_value = encoder_model.predict(input_seq)\n",
    "\n",
    "    # Generate empty target sequence of length 1.\n",
    "    target_seq = np.zeros((1, 1, num_decoder_tokens))\n",
    "    # Populate the first character of target sequence with the start character.\n",
    "    target_seq[0, 0, target_token_index['\\t']] = 1.\n",
    "\n",
    "    # Sampling loop for a batch of sequences\n",
    "    # (to simplify, here we assume a batch of size 1).\n",
    "    stop_condition = False\n",
    "    decoded_sentence = ''\n",
    "    while not stop_condition:\n",
    "        output_tokens, h, c = decoder_model.predict(\n",
    "            [target_seq] + states_value)\n",
    "\n",
    "        # Sample a token\n",
    "        sampled_token_index = np.argmax(output_tokens[0, -1, :])\n",
    "        sampled_char = reverse_target_char_index[sampled_token_index]\n",
    "        decoded_sentence += sampled_char\n",
    "\n",
    "        # Exit condition: either hit max length\n",
    "        # or find stop character.\n",
    "        if (sampled_char == '\\n' or\n",
    "           len(decoded_sentence) > max_decoder_seq_length):\n",
    "            stop_condition = True\n",
    "\n",
    "        # Update the target sequence (of length 1).\n",
    "        target_seq = np.zeros((1, 1, num_decoder_tokens))\n",
    "        target_seq[0, 0, sampled_token_index] = 1.\n",
    "\n",
    "        # Update states\n",
    "        states_value = [h, c]\n",
    "\n",
    "    return decoded_sentence\n",
    "\n",
    "\n",
    "for seq_index in range(100):\n",
    "    # Take one sequence (part of the training set)\n",
    "    # for trying out decoding.\n",
    "    input_seq = encoder_input_data[seq_index: seq_index + 1]\n",
    "    decoded_sentence = decode_sequence(input_seq)\n",
    "    print('-')\n",
    "    print('Input sentence:', input_texts[seq_index])\n",
    "    print('Decoded sentence:', decoded_sentence)"
   ]
  },
  {
   "cell_type": "code",
   "execution_count": null,
   "metadata": {},
   "outputs": [],
   "source": []
  }
 ],
 "metadata": {
  "kernelspec": {
   "display_name": "Python 3",
   "language": "python",
   "name": "python3"
  },
  "language_info": {
   "codemirror_mode": {
    "name": "ipython",
    "version": 3
   },
   "file_extension": ".py",
   "mimetype": "text/x-python",
   "name": "python",
   "nbconvert_exporter": "python",
   "pygments_lexer": "ipython3",
   "version": "3.5.5"
  }
 },
 "nbformat": 4,
 "nbformat_minor": 2
}
